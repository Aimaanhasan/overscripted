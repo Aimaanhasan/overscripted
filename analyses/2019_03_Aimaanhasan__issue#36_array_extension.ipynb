{
 "cells": [
  {
   "cell_type": "markdown",
   "metadata": {},
   "source": [
    "## Introduction\n",
    "This notebook have used the existing examples of string processing which @birdsarah has produced, present in 'analyses/issue_36.ipynb' to analyse it using **array extensions**"
   ]
  },
  {
   "cell_type": "markdown",
   "metadata": {},
   "source": [
    "This notebook contains a series of string operations that I find myself doing frequently on this dataset.\n",
    "\n",
    "For the purposes of issue 36 they may not be the least efficient but should be enough to get started and we can dig in further if needed.\n",
    "\n",
    "For dask demo, this shows plenty of examples of applying functions and string operations using dask"
   ]
  },
  {
   "cell_type": "code",
   "execution_count": 26,
   "metadata": {
    "scrolled": true
   },
   "outputs": [
    {
     "data": {
      "text/html": [
       "<table style=\"border: 2px solid white;\">\n",
       "<tr>\n",
       "<td style=\"vertical-align: top; border: 0px solid white\">\n",
       "<h3>Client</h3>\n",
       "<ul>\n",
       "  <li><b>Scheduler: </b>tcp://127.0.0.1:60056\n",
       "  <li><b>Dashboard: </b><a href='http://127.0.0.1:60057/status' target='_blank'>http://127.0.0.1:60057/status</a>\n",
       "</ul>\n",
       "</td>\n",
       "<td style=\"vertical-align: top; border: 0px solid white\">\n",
       "<h3>Cluster</h3>\n",
       "<ul>\n",
       "  <li><b>Workers: </b>4</li>\n",
       "  <li><b>Cores: </b>4</li>\n",
       "  <li><b>Memory: </b>4.16 GB</li>\n",
       "</ul>\n",
       "</td>\n",
       "</tr>\n",
       "</table>"
      ],
      "text/plain": [
       "<Client: scheduler='tcp://127.0.0.1:60056' processes=4 cores=4>"
      ]
     },
     "execution_count": 26,
     "metadata": {},
     "output_type": "execute_result"
    }
   ],
   "source": [
    "import dask.dataframe as dd\n",
    "from dask.distributed import Client\n",
    "import fletcher as fr\n",
    "Client()"
   ]
  },
  {
   "cell_type": "code",
   "execution_count": 27,
   "metadata": {},
   "outputs": [
    {
     "data": {
      "text/html": [
       "<div>\n",
       "<style scoped>\n",
       "    .dataframe tbody tr th:only-of-type {\n",
       "        vertical-align: middle;\n",
       "    }\n",
       "\n",
       "    .dataframe tbody tr th {\n",
       "        vertical-align: top;\n",
       "    }\n",
       "\n",
       "    .dataframe thead th {\n",
       "        text-align: right;\n",
       "    }\n",
       "</style>\n",
       "<table border=\"1\" class=\"dataframe\">\n",
       "  <thead>\n",
       "    <tr style=\"text-align: right;\">\n",
       "      <th></th>\n",
       "      <th>argument_0</th>\n",
       "      <th>func_name</th>\n",
       "      <th>symbol</th>\n",
       "      <th>location</th>\n",
       "      <th>script_url</th>\n",
       "    </tr>\n",
       "  </thead>\n",
       "  <tbody>\n",
       "    <tr>\n",
       "      <th>0</th>\n",
       "      <td></td>\n",
       "      <td>a/&lt;</td>\n",
       "      <td>window.name</td>\n",
       "      <td>https://staticxx.facebook.com/connect/xd_arbit...</td>\n",
       "      <td>https://staticxx.facebook.com/connect/xd_arbit...</td>\n",
       "    </tr>\n",
       "    <tr>\n",
       "      <th>1</th>\n",
       "      <td></td>\n",
       "      <td>a/&lt;</td>\n",
       "      <td>window.name</td>\n",
       "      <td>https://staticxx.facebook.com/connect/xd_arbit...</td>\n",
       "      <td>https://staticxx.facebook.com/connect/xd_arbit...</td>\n",
       "    </tr>\n",
       "    <tr>\n",
       "      <th>2</th>\n",
       "      <td></td>\n",
       "      <td>A</td>\n",
       "      <td>window.document.cookie</td>\n",
       "      <td>https://staticxx.facebook.com/connect/xd_arbit...</td>\n",
       "      <td>https://staticxx.facebook.com/connect/xd_arbit...</td>\n",
       "    </tr>\n",
       "    <tr>\n",
       "      <th>3</th>\n",
       "      <td></td>\n",
       "      <td>x</td>\n",
       "      <td>window.navigator.userAgent</td>\n",
       "      <td>https://staticxx.facebook.com/connect/xd_arbit...</td>\n",
       "      <td>https://staticxx.facebook.com/connect/xd_arbit...</td>\n",
       "    </tr>\n",
       "    <tr>\n",
       "      <th>4</th>\n",
       "      <td></td>\n",
       "      <td>ra/&lt;</td>\n",
       "      <td>window.navigator.userAgent</td>\n",
       "      <td>https://cas.us.criteo.com/delivery/r/afr.php?d...</td>\n",
       "      <td>https://ajax.googleapis.com/ajax/libs/webfont/...</td>\n",
       "    </tr>\n",
       "  </tbody>\n",
       "</table>\n",
       "</div>"
      ],
      "text/plain": [
       "  argument_0 func_name                      symbol  \\\n",
       "0                  a/<                 window.name   \n",
       "1                  a/<                 window.name   \n",
       "2                    A      window.document.cookie   \n",
       "3                    x  window.navigator.userAgent   \n",
       "4                 ra/<  window.navigator.userAgent   \n",
       "\n",
       "                                            location  \\\n",
       "0  https://staticxx.facebook.com/connect/xd_arbit...   \n",
       "1  https://staticxx.facebook.com/connect/xd_arbit...   \n",
       "2  https://staticxx.facebook.com/connect/xd_arbit...   \n",
       "3  https://staticxx.facebook.com/connect/xd_arbit...   \n",
       "4  https://cas.us.criteo.com/delivery/r/afr.php?d...   \n",
       "\n",
       "                                          script_url  \n",
       "0  https://staticxx.facebook.com/connect/xd_arbit...  \n",
       "1  https://staticxx.facebook.com/connect/xd_arbit...  \n",
       "2  https://staticxx.facebook.com/connect/xd_arbit...  \n",
       "3  https://staticxx.facebook.com/connect/xd_arbit...  \n",
       "4  https://ajax.googleapis.com/ajax/libs/webfont/...  "
      ]
     },
     "execution_count": 27,
     "metadata": {},
     "output_type": "execute_result"
    }
   ],
   "source": [
    "df = dd.read_parquet(\n",
    "    \"C:\\\\Users\\\\Ayman Hasan\\\\Desktop\\\\Outreachy\\\\sample\\\\part-00000-34d9b361-ea79-42eb-82ee-9c9f9259c339-c000.snappy.parquet\", engine='pyarrow',\n",
    "    columns=['argument_0', 'func_name', 'symbol', 'location', 'script_url']\n",
    ")\n",
    "df.head()\n"
   ]
  },
  {
   "cell_type": "markdown",
   "metadata": {},
   "source": [
    "Some common string processing tasks:\n",
    "* pulling domains\n",
    "* pulling end of url\n",
    "* building \"grouping\" string\n",
    "* splitting symbol column\n",
    "* finding things in strings"
   ]
  },
  {
   "cell_type": "code",
   "execution_count": 28,
   "metadata": {},
   "outputs": [],
   "source": [
    "from urllib.parse import urlparse\n",
    "#from openwpm_utils.domain import get_ps_plus_1\n",
    "\n",
    "EMPTY_STRING = 'EMPTY_STRING'\n",
    "\n",
    "\n",
    "def get_netloc(x):\n",
    "    p = urlparse(x)\n",
    "    val = p.netloc\n",
    "    if len(val) == 0:\n",
    "        val = EMPTY_STRING\n",
    "    return val\n",
    "\n",
    "\n",
    "def get_path(x):\n",
    "    p = urlparse(x)\n",
    "    val = p.path\n",
    "    if len(val) == 0:\n",
    "        val = EMPTY_STRING\n",
    "    return val\n",
    "\n",
    "\n",
    "def get_end_of_path(x):\n",
    "    splits = x.split('/')\n",
    "    val = ''\n",
    "    if len(splits) > 0:\n",
    "        val = splits[-1]\n",
    "    else:\n",
    "        val = x\n",
    "    if len(val) == 0:\n",
    "        val = EMPTY_STRING\n",
    "    return val\n",
    "\n",
    "\n",
    "def get_clean_script(x):\n",
    "    p = urlparse(x)\n",
    "    return f'{p.netloc}{p.path}'"
   ]
  },
  {
   "cell_type": "markdown",
   "metadata": {},
   "source": [
    "#### Build aggregator"
   ]
  },
  {
   "cell_type": "code",
   "execution_count": 29,
   "metadata": {},
   "outputs": [
    {
     "data": {
      "text/html": [
       "<div>\n",
       "<style scoped>\n",
       "    .dataframe tbody tr th:only-of-type {\n",
       "        vertical-align: middle;\n",
       "    }\n",
       "\n",
       "    .dataframe tbody tr th {\n",
       "        vertical-align: top;\n",
       "    }\n",
       "\n",
       "    .dataframe thead th {\n",
       "        text-align: right;\n",
       "    }\n",
       "</style>\n",
       "<table border=\"1\" class=\"dataframe\">\n",
       "  <thead>\n",
       "    <tr style=\"text-align: right;\">\n",
       "      <th></th>\n",
       "      <th>argument_0</th>\n",
       "      <th>func_name</th>\n",
       "      <th>symbol</th>\n",
       "      <th>location</th>\n",
       "      <th>script_url</th>\n",
       "      <th>script_netloc</th>\n",
       "      <th>script_path</th>\n",
       "      <th>script_path_end</th>\n",
       "      <th>agg</th>\n",
       "    </tr>\n",
       "  </thead>\n",
       "  <tbody>\n",
       "    <tr>\n",
       "      <th>0</th>\n",
       "      <td></td>\n",
       "      <td>a/&lt;</td>\n",
       "      <td>window.name</td>\n",
       "      <td>https://staticxx.facebook.com/connect/xd_arbit...</td>\n",
       "      <td>https://staticxx.facebook.com/connect/xd_arbit...</td>\n",
       "      <td>staticxx.facebook.com</td>\n",
       "      <td>/connect/xd_arbiter/r/lY4eZXm_YWu.js</td>\n",
       "      <td>lY4eZXm_YWu.js</td>\n",
       "      <td>staticxx.facebook.com||lY4eZXm_YWu.js||a/&lt;</td>\n",
       "    </tr>\n",
       "    <tr>\n",
       "      <th>1</th>\n",
       "      <td></td>\n",
       "      <td>a/&lt;</td>\n",
       "      <td>window.name</td>\n",
       "      <td>https://staticxx.facebook.com/connect/xd_arbit...</td>\n",
       "      <td>https://staticxx.facebook.com/connect/xd_arbit...</td>\n",
       "      <td>staticxx.facebook.com</td>\n",
       "      <td>/connect/xd_arbiter/r/lY4eZXm_YWu.js</td>\n",
       "      <td>lY4eZXm_YWu.js</td>\n",
       "      <td>staticxx.facebook.com||lY4eZXm_YWu.js||a/&lt;</td>\n",
       "    </tr>\n",
       "    <tr>\n",
       "      <th>2</th>\n",
       "      <td></td>\n",
       "      <td>A</td>\n",
       "      <td>window.document.cookie</td>\n",
       "      <td>https://staticxx.facebook.com/connect/xd_arbit...</td>\n",
       "      <td>https://staticxx.facebook.com/connect/xd_arbit...</td>\n",
       "      <td>staticxx.facebook.com</td>\n",
       "      <td>/connect/xd_arbiter/r/lY4eZXm_YWu.js</td>\n",
       "      <td>lY4eZXm_YWu.js</td>\n",
       "      <td>staticxx.facebook.com||lY4eZXm_YWu.js||A</td>\n",
       "    </tr>\n",
       "    <tr>\n",
       "      <th>3</th>\n",
       "      <td></td>\n",
       "      <td>x</td>\n",
       "      <td>window.navigator.userAgent</td>\n",
       "      <td>https://staticxx.facebook.com/connect/xd_arbit...</td>\n",
       "      <td>https://staticxx.facebook.com/connect/xd_arbit...</td>\n",
       "      <td>staticxx.facebook.com</td>\n",
       "      <td>/connect/xd_arbiter/r/lY4eZXm_YWu.js</td>\n",
       "      <td>lY4eZXm_YWu.js</td>\n",
       "      <td>staticxx.facebook.com||lY4eZXm_YWu.js||x</td>\n",
       "    </tr>\n",
       "    <tr>\n",
       "      <th>4</th>\n",
       "      <td></td>\n",
       "      <td>ra/&lt;</td>\n",
       "      <td>window.navigator.userAgent</td>\n",
       "      <td>https://cas.us.criteo.com/delivery/r/afr.php?d...</td>\n",
       "      <td>https://ajax.googleapis.com/ajax/libs/webfont/...</td>\n",
       "      <td>ajax.googleapis.com</td>\n",
       "      <td>/ajax/libs/webfont/1.6.26/webfont.js</td>\n",
       "      <td>webfont.js</td>\n",
       "      <td>ajax.googleapis.com||webfont.js||ra/&lt;</td>\n",
       "    </tr>\n",
       "  </tbody>\n",
       "</table>\n",
       "</div>"
      ],
      "text/plain": [
       "  argument_0 func_name                      symbol  \\\n",
       "0                  a/<                 window.name   \n",
       "1                  a/<                 window.name   \n",
       "2                    A      window.document.cookie   \n",
       "3                    x  window.navigator.userAgent   \n",
       "4                 ra/<  window.navigator.userAgent   \n",
       "\n",
       "                                            location  \\\n",
       "0  https://staticxx.facebook.com/connect/xd_arbit...   \n",
       "1  https://staticxx.facebook.com/connect/xd_arbit...   \n",
       "2  https://staticxx.facebook.com/connect/xd_arbit...   \n",
       "3  https://staticxx.facebook.com/connect/xd_arbit...   \n",
       "4  https://cas.us.criteo.com/delivery/r/afr.php?d...   \n",
       "\n",
       "                                          script_url          script_netloc  \\\n",
       "0  https://staticxx.facebook.com/connect/xd_arbit...  staticxx.facebook.com   \n",
       "1  https://staticxx.facebook.com/connect/xd_arbit...  staticxx.facebook.com   \n",
       "2  https://staticxx.facebook.com/connect/xd_arbit...  staticxx.facebook.com   \n",
       "3  https://staticxx.facebook.com/connect/xd_arbit...  staticxx.facebook.com   \n",
       "4  https://ajax.googleapis.com/ajax/libs/webfont/...    ajax.googleapis.com   \n",
       "\n",
       "                            script_path script_path_end  \\\n",
       "0  /connect/xd_arbiter/r/lY4eZXm_YWu.js  lY4eZXm_YWu.js   \n",
       "1  /connect/xd_arbiter/r/lY4eZXm_YWu.js  lY4eZXm_YWu.js   \n",
       "2  /connect/xd_arbiter/r/lY4eZXm_YWu.js  lY4eZXm_YWu.js   \n",
       "3  /connect/xd_arbiter/r/lY4eZXm_YWu.js  lY4eZXm_YWu.js   \n",
       "4  /ajax/libs/webfont/1.6.26/webfont.js      webfont.js   \n",
       "\n",
       "                                          agg  \n",
       "0  staticxx.facebook.com||lY4eZXm_YWu.js||a/<  \n",
       "1  staticxx.facebook.com||lY4eZXm_YWu.js||a/<  \n",
       "2    staticxx.facebook.com||lY4eZXm_YWu.js||A  \n",
       "3    staticxx.facebook.com||lY4eZXm_YWu.js||x  \n",
       "4       ajax.googleapis.com||webfont.js||ra/<  "
      ]
     },
     "execution_count": 29,
     "metadata": {},
     "output_type": "execute_result"
    }
   ],
   "source": [
    "df['script_netloc'] = df.script_url.apply(get_netloc, meta=('O'))\n",
    "df['script_path'] = df.script_url.apply(get_path, meta=('O'))\n",
    "df['script_path_end'] = df.script_path.apply(get_end_of_path, meta=('O'))\n",
    "df['agg'] = df.script_netloc + '||' + df.script_path_end + '||' + df.func_name\n",
    "df.head()"
   ]
  },
  {
   "cell_type": "code",
   "execution_count": 30,
   "metadata": {},
   "outputs": [
    {
     "data": {
      "text/html": [
       "<div>\n",
       "<style scoped>\n",
       "    .dataframe tbody tr th:only-of-type {\n",
       "        vertical-align: middle;\n",
       "    }\n",
       "\n",
       "    .dataframe tbody tr th {\n",
       "        vertical-align: top;\n",
       "    }\n",
       "\n",
       "    .dataframe thead th {\n",
       "        text-align: right;\n",
       "    }\n",
       "</style>\n",
       "<table border=\"1\" class=\"dataframe\">\n",
       "  <thead>\n",
       "    <tr style=\"text-align: right;\">\n",
       "      <th></th>\n",
       "      <th>argument_0</th>\n",
       "      <th>func_name</th>\n",
       "      <th>symbol</th>\n",
       "      <th>location</th>\n",
       "      <th>script_url</th>\n",
       "      <th>script_netloc</th>\n",
       "      <th>script_path</th>\n",
       "      <th>script_path_end</th>\n",
       "      <th>agg</th>\n",
       "    </tr>\n",
       "  </thead>\n",
       "  <tbody>\n",
       "    <tr>\n",
       "      <th>0</th>\n",
       "      <td></td>\n",
       "      <td>a/&lt;</td>\n",
       "      <td>window.name</td>\n",
       "      <td>https://staticxx.facebook.com/connect/xd_arbit...</td>\n",
       "      <td>https://staticxx.facebook.com/connect/xd_arbit...</td>\n",
       "      <td>staticxx.facebook.com</td>\n",
       "      <td>/connect/xd_arbiter/r/lY4eZXm_YWu.js</td>\n",
       "      <td>lY4eZXm_YWu.js</td>\n",
       "      <td>staticxx.facebook.com||lY4eZXm_YWu.js||a/&lt;</td>\n",
       "    </tr>\n",
       "    <tr>\n",
       "      <th>1</th>\n",
       "      <td></td>\n",
       "      <td>a/&lt;</td>\n",
       "      <td>window.name</td>\n",
       "      <td>https://staticxx.facebook.com/connect/xd_arbit...</td>\n",
       "      <td>https://staticxx.facebook.com/connect/xd_arbit...</td>\n",
       "      <td>staticxx.facebook.com</td>\n",
       "      <td>/connect/xd_arbiter/r/lY4eZXm_YWu.js</td>\n",
       "      <td>lY4eZXm_YWu.js</td>\n",
       "      <td>staticxx.facebook.com||lY4eZXm_YWu.js||a/&lt;</td>\n",
       "    </tr>\n",
       "    <tr>\n",
       "      <th>2</th>\n",
       "      <td></td>\n",
       "      <td>A</td>\n",
       "      <td>window.document.cookie</td>\n",
       "      <td>https://staticxx.facebook.com/connect/xd_arbit...</td>\n",
       "      <td>https://staticxx.facebook.com/connect/xd_arbit...</td>\n",
       "      <td>staticxx.facebook.com</td>\n",
       "      <td>/connect/xd_arbiter/r/lY4eZXm_YWu.js</td>\n",
       "      <td>lY4eZXm_YWu.js</td>\n",
       "      <td>staticxx.facebook.com||lY4eZXm_YWu.js||A</td>\n",
       "    </tr>\n",
       "    <tr>\n",
       "      <th>3</th>\n",
       "      <td></td>\n",
       "      <td>x</td>\n",
       "      <td>window.navigator.userAgent</td>\n",
       "      <td>https://staticxx.facebook.com/connect/xd_arbit...</td>\n",
       "      <td>https://staticxx.facebook.com/connect/xd_arbit...</td>\n",
       "      <td>staticxx.facebook.com</td>\n",
       "      <td>/connect/xd_arbiter/r/lY4eZXm_YWu.js</td>\n",
       "      <td>lY4eZXm_YWu.js</td>\n",
       "      <td>staticxx.facebook.com||lY4eZXm_YWu.js||x</td>\n",
       "    </tr>\n",
       "    <tr>\n",
       "      <th>4</th>\n",
       "      <td></td>\n",
       "      <td>ra/&lt;</td>\n",
       "      <td>window.navigator.userAgent</td>\n",
       "      <td>https://cas.us.criteo.com/delivery/r/afr.php?d...</td>\n",
       "      <td>https://ajax.googleapis.com/ajax/libs/webfont/...</td>\n",
       "      <td>ajax.googleapis.com</td>\n",
       "      <td>/ajax/libs/webfont/1.6.26/webfont.js</td>\n",
       "      <td>webfont.js</td>\n",
       "      <td>ajax.googleapis.com||webfont.js||ra/&lt;</td>\n",
       "    </tr>\n",
       "  </tbody>\n",
       "</table>\n",
       "</div>"
      ],
      "text/plain": [
       "  argument_0 func_name                      symbol  \\\n",
       "0                  a/<                 window.name   \n",
       "1                  a/<                 window.name   \n",
       "2                    A      window.document.cookie   \n",
       "3                    x  window.navigator.userAgent   \n",
       "4                 ra/<  window.navigator.userAgent   \n",
       "\n",
       "                                            location  \\\n",
       "0  https://staticxx.facebook.com/connect/xd_arbit...   \n",
       "1  https://staticxx.facebook.com/connect/xd_arbit...   \n",
       "2  https://staticxx.facebook.com/connect/xd_arbit...   \n",
       "3  https://staticxx.facebook.com/connect/xd_arbit...   \n",
       "4  https://cas.us.criteo.com/delivery/r/afr.php?d...   \n",
       "\n",
       "                                          script_url          script_netloc  \\\n",
       "0  https://staticxx.facebook.com/connect/xd_arbit...  staticxx.facebook.com   \n",
       "1  https://staticxx.facebook.com/connect/xd_arbit...  staticxx.facebook.com   \n",
       "2  https://staticxx.facebook.com/connect/xd_arbit...  staticxx.facebook.com   \n",
       "3  https://staticxx.facebook.com/connect/xd_arbit...  staticxx.facebook.com   \n",
       "4  https://ajax.googleapis.com/ajax/libs/webfont/...    ajax.googleapis.com   \n",
       "\n",
       "                            script_path script_path_end  \\\n",
       "0  /connect/xd_arbiter/r/lY4eZXm_YWu.js  lY4eZXm_YWu.js   \n",
       "1  /connect/xd_arbiter/r/lY4eZXm_YWu.js  lY4eZXm_YWu.js   \n",
       "2  /connect/xd_arbiter/r/lY4eZXm_YWu.js  lY4eZXm_YWu.js   \n",
       "3  /connect/xd_arbiter/r/lY4eZXm_YWu.js  lY4eZXm_YWu.js   \n",
       "4  /ajax/libs/webfont/1.6.26/webfont.js      webfont.js   \n",
       "\n",
       "                                          agg  \n",
       "0  staticxx.facebook.com||lY4eZXm_YWu.js||a/<  \n",
       "1  staticxx.facebook.com||lY4eZXm_YWu.js||a/<  \n",
       "2    staticxx.facebook.com||lY4eZXm_YWu.js||A  \n",
       "3    staticxx.facebook.com||lY4eZXm_YWu.js||x  \n",
       "4       ajax.googleapis.com||webfont.js||ra/<  "
      ]
     },
     "execution_count": 30,
     "metadata": {},
     "output_type": "execute_result"
    }
   ],
   "source": [
    "dfpd = df.compute() #Converting to Pandas Dataframe\n",
    "\n",
    "\n",
    "for i in dfpd.columns:\n",
    "    dfpd[i] = fr.FletcherArray(dfpd[i])\n",
    "dfpd = dd.from_pandas(dfpd, npartitions=2)\n",
    "dfpd.head()"
   ]
  },
  {
   "cell_type": "code",
   "execution_count": 31,
   "metadata": {},
   "outputs": [
    {
     "name": "stdout",
     "output_type": "stream",
     "text": [
      "Wall time: 567 ms\n"
     ]
    }
   ],
   "source": [
    "%%time\n",
    "n_unique_aggs = df.agg.nunique().compute()"
   ]
  },
  {
   "cell_type": "code",
   "execution_count": 32,
   "metadata": {},
   "outputs": [
    {
     "data": {
      "text/plain": [
       "1261"
      ]
     },
     "execution_count": 32,
     "metadata": {},
     "output_type": "execute_result"
    }
   ],
   "source": [
    "n_unique_aggs"
   ]
  },
  {
   "cell_type": "code",
   "execution_count": 33,
   "metadata": {},
   "outputs": [
    {
     "ename": "TypeError",
     "evalue": "data type not understood",
     "output_type": "error",
     "traceback": [
      "\u001b[1;31m---------------------------------------------------------------------------\u001b[0m",
      "\u001b[1;31mTypeError\u001b[0m                                 Traceback (most recent call last)",
      "\u001b[1;32m<ipython-input-33-7e79a33ce033>\u001b[0m in \u001b[0;36m<module>\u001b[1;34m\u001b[0m\n\u001b[1;32m----> 1\u001b[1;33m \u001b[0mn_unique_aggs_from_fr\u001b[0m \u001b[1;33m=\u001b[0m \u001b[0mdfpd\u001b[0m\u001b[1;33m.\u001b[0m\u001b[0magg\u001b[0m\u001b[1;33m.\u001b[0m\u001b[0mnunique\u001b[0m\u001b[1;33m(\u001b[0m\u001b[1;33m)\u001b[0m\u001b[1;33m\u001b[0m\u001b[1;33m\u001b[0m\u001b[0m\n\u001b[0m\u001b[0;32m      2\u001b[0m \u001b[1;31m#The above command returns an error\u001b[0m\u001b[1;33m\u001b[0m\u001b[1;33m\u001b[0m\u001b[1;33m\u001b[0m\u001b[0m\n",
      "\u001b[1;32mC:\\ProgramData\\Anaconda3\\lib\\site-packages\\dask\\dataframe\\core.py\u001b[0m in \u001b[0;36mnunique\u001b[1;34m(self, split_every)\u001b[0m\n\u001b[0;32m   2068\u001b[0m     \u001b[1;33m@\u001b[0m\u001b[0mderived_from\u001b[0m\u001b[1;33m(\u001b[0m\u001b[0mpd\u001b[0m\u001b[1;33m.\u001b[0m\u001b[0mSeries\u001b[0m\u001b[1;33m)\u001b[0m\u001b[1;33m\u001b[0m\u001b[1;33m\u001b[0m\u001b[0m\n\u001b[0;32m   2069\u001b[0m     \u001b[1;32mdef\u001b[0m \u001b[0mnunique\u001b[0m\u001b[1;33m(\u001b[0m\u001b[0mself\u001b[0m\u001b[1;33m,\u001b[0m \u001b[0msplit_every\u001b[0m\u001b[1;33m=\u001b[0m\u001b[1;32mNone\u001b[0m\u001b[1;33m)\u001b[0m\u001b[1;33m:\u001b[0m\u001b[1;33m\u001b[0m\u001b[1;33m\u001b[0m\u001b[0m\n\u001b[1;32m-> 2070\u001b[1;33m         \u001b[1;32mreturn\u001b[0m \u001b[0mself\u001b[0m\u001b[1;33m.\u001b[0m\u001b[0mdrop_duplicates\u001b[0m\u001b[1;33m(\u001b[0m\u001b[0msplit_every\u001b[0m\u001b[1;33m=\u001b[0m\u001b[0msplit_every\u001b[0m\u001b[1;33m)\u001b[0m\u001b[1;33m.\u001b[0m\u001b[0mcount\u001b[0m\u001b[1;33m(\u001b[0m\u001b[1;33m)\u001b[0m\u001b[1;33m\u001b[0m\u001b[1;33m\u001b[0m\u001b[0m\n\u001b[0m\u001b[0;32m   2071\u001b[0m \u001b[1;33m\u001b[0m\u001b[0m\n\u001b[0;32m   2072\u001b[0m     \u001b[1;33m@\u001b[0m\u001b[0mderived_from\u001b[0m\u001b[1;33m(\u001b[0m\u001b[0mpd\u001b[0m\u001b[1;33m.\u001b[0m\u001b[0mSeries\u001b[0m\u001b[1;33m)\u001b[0m\u001b[1;33m\u001b[0m\u001b[1;33m\u001b[0m\u001b[0m\n",
      "\u001b[1;32mC:\\ProgramData\\Anaconda3\\lib\\site-packages\\dask\\dataframe\\core.py\u001b[0m in \u001b[0;36mdrop_duplicates\u001b[1;34m(self, split_every, split_out, **kwargs)\u001b[0m\n\u001b[0;32m    418\u001b[0m     \u001b[1;32mdef\u001b[0m \u001b[0mdrop_duplicates\u001b[0m\u001b[1;33m(\u001b[0m\u001b[0mself\u001b[0m\u001b[1;33m,\u001b[0m \u001b[0msplit_every\u001b[0m\u001b[1;33m=\u001b[0m\u001b[1;32mNone\u001b[0m\u001b[1;33m,\u001b[0m \u001b[0msplit_out\u001b[0m\u001b[1;33m=\u001b[0m\u001b[1;36m1\u001b[0m\u001b[1;33m,\u001b[0m \u001b[1;33m**\u001b[0m\u001b[0mkwargs\u001b[0m\u001b[1;33m)\u001b[0m\u001b[1;33m:\u001b[0m\u001b[1;33m\u001b[0m\u001b[1;33m\u001b[0m\u001b[0m\n\u001b[0;32m    419\u001b[0m         \u001b[1;31m# Let pandas error on bad inputs\u001b[0m\u001b[1;33m\u001b[0m\u001b[1;33m\u001b[0m\u001b[1;33m\u001b[0m\u001b[0m\n\u001b[1;32m--> 420\u001b[1;33m         \u001b[0mself\u001b[0m\u001b[1;33m.\u001b[0m\u001b[0m_meta_nonempty\u001b[0m\u001b[1;33m.\u001b[0m\u001b[0mdrop_duplicates\u001b[0m\u001b[1;33m(\u001b[0m\u001b[1;33m**\u001b[0m\u001b[0mkwargs\u001b[0m\u001b[1;33m)\u001b[0m\u001b[1;33m\u001b[0m\u001b[1;33m\u001b[0m\u001b[0m\n\u001b[0m\u001b[0;32m    421\u001b[0m         \u001b[1;32mif\u001b[0m \u001b[1;34m'subset'\u001b[0m \u001b[1;32min\u001b[0m \u001b[0mkwargs\u001b[0m \u001b[1;32mand\u001b[0m \u001b[0mkwargs\u001b[0m\u001b[1;33m[\u001b[0m\u001b[1;34m'subset'\u001b[0m\u001b[1;33m]\u001b[0m \u001b[1;32mis\u001b[0m \u001b[1;32mnot\u001b[0m \u001b[1;32mNone\u001b[0m\u001b[1;33m:\u001b[0m\u001b[1;33m\u001b[0m\u001b[1;33m\u001b[0m\u001b[0m\n\u001b[0;32m    422\u001b[0m             \u001b[0msplit_out_setup\u001b[0m \u001b[1;33m=\u001b[0m \u001b[0msplit_out_on_cols\u001b[0m\u001b[1;33m\u001b[0m\u001b[1;33m\u001b[0m\u001b[0m\n",
      "\u001b[1;32mC:\\ProgramData\\Anaconda3\\lib\\site-packages\\dask\\dataframe\\core.py\u001b[0m in \u001b[0;36m_meta_nonempty\u001b[1;34m(self)\u001b[0m\n\u001b[0;32m    287\u001b[0m     \u001b[1;32mdef\u001b[0m \u001b[0m_meta_nonempty\u001b[0m\u001b[1;33m(\u001b[0m\u001b[0mself\u001b[0m\u001b[1;33m)\u001b[0m\u001b[1;33m:\u001b[0m\u001b[1;33m\u001b[0m\u001b[1;33m\u001b[0m\u001b[0m\n\u001b[0;32m    288\u001b[0m         \u001b[1;34m\"\"\" A non-empty version of `_meta` with fake data.\"\"\"\u001b[0m\u001b[1;33m\u001b[0m\u001b[1;33m\u001b[0m\u001b[0m\n\u001b[1;32m--> 289\u001b[1;33m         \u001b[1;32mreturn\u001b[0m \u001b[0mmeta_nonempty\u001b[0m\u001b[1;33m(\u001b[0m\u001b[0mself\u001b[0m\u001b[1;33m.\u001b[0m\u001b[0m_meta\u001b[0m\u001b[1;33m)\u001b[0m\u001b[1;33m\u001b[0m\u001b[1;33m\u001b[0m\u001b[0m\n\u001b[0m\u001b[0;32m    290\u001b[0m \u001b[1;33m\u001b[0m\u001b[0m\n\u001b[0;32m    291\u001b[0m     \u001b[1;33m@\u001b[0m\u001b[0mproperty\u001b[0m\u001b[1;33m\u001b[0m\u001b[1;33m\u001b[0m\u001b[0m\n",
      "\u001b[1;32mC:\\ProgramData\\Anaconda3\\lib\\site-packages\\dask\\utils.py\u001b[0m in \u001b[0;36m__call__\u001b[1;34m(self, arg, *args, **kwargs)\u001b[0m\n\u001b[0;32m    411\u001b[0m         \"\"\"\n\u001b[0;32m    412\u001b[0m         \u001b[0mmeth\u001b[0m \u001b[1;33m=\u001b[0m \u001b[0mself\u001b[0m\u001b[1;33m.\u001b[0m\u001b[0mdispatch\u001b[0m\u001b[1;33m(\u001b[0m\u001b[0mtype\u001b[0m\u001b[1;33m(\u001b[0m\u001b[0marg\u001b[0m\u001b[1;33m)\u001b[0m\u001b[1;33m)\u001b[0m\u001b[1;33m\u001b[0m\u001b[1;33m\u001b[0m\u001b[0m\n\u001b[1;32m--> 413\u001b[1;33m         \u001b[1;32mreturn\u001b[0m \u001b[0mmeth\u001b[0m\u001b[1;33m(\u001b[0m\u001b[0marg\u001b[0m\u001b[1;33m,\u001b[0m \u001b[1;33m*\u001b[0m\u001b[0margs\u001b[0m\u001b[1;33m,\u001b[0m \u001b[1;33m**\u001b[0m\u001b[0mkwargs\u001b[0m\u001b[1;33m)\u001b[0m\u001b[1;33m\u001b[0m\u001b[1;33m\u001b[0m\u001b[0m\n\u001b[0m\u001b[0;32m    414\u001b[0m \u001b[1;33m\u001b[0m\u001b[0m\n\u001b[0;32m    415\u001b[0m     \u001b[1;33m@\u001b[0m\u001b[0mproperty\u001b[0m\u001b[1;33m\u001b[0m\u001b[1;33m\u001b[0m\u001b[0m\n",
      "\u001b[1;32mC:\\ProgramData\\Anaconda3\\lib\\site-packages\\dask\\dataframe\\utils.py\u001b[0m in \u001b[0;36m_nonempty_series\u001b[1;34m(s, idx)\u001b[0m\n\u001b[0;32m    445\u001b[0m     \u001b[1;32melse\u001b[0m\u001b[1;33m:\u001b[0m\u001b[1;33m\u001b[0m\u001b[1;33m\u001b[0m\u001b[0m\n\u001b[0;32m    446\u001b[0m         \u001b[0mentry\u001b[0m \u001b[1;33m=\u001b[0m \u001b[0m_scalar_from_dtype\u001b[0m\u001b[1;33m(\u001b[0m\u001b[0mdtype\u001b[0m\u001b[1;33m)\u001b[0m\u001b[1;33m\u001b[0m\u001b[1;33m\u001b[0m\u001b[0m\n\u001b[1;32m--> 447\u001b[1;33m         \u001b[0mdata\u001b[0m \u001b[1;33m=\u001b[0m \u001b[0mnp\u001b[0m\u001b[1;33m.\u001b[0m\u001b[0marray\u001b[0m\u001b[1;33m(\u001b[0m\u001b[1;33m[\u001b[0m\u001b[0mentry\u001b[0m\u001b[1;33m,\u001b[0m \u001b[0mentry\u001b[0m\u001b[1;33m]\u001b[0m\u001b[1;33m,\u001b[0m \u001b[0mdtype\u001b[0m\u001b[1;33m=\u001b[0m\u001b[0mdtype\u001b[0m\u001b[1;33m)\u001b[0m\u001b[1;33m\u001b[0m\u001b[1;33m\u001b[0m\u001b[0m\n\u001b[0m\u001b[0;32m    448\u001b[0m \u001b[1;33m\u001b[0m\u001b[0m\n\u001b[0;32m    449\u001b[0m     \u001b[1;32mreturn\u001b[0m \u001b[0mpd\u001b[0m\u001b[1;33m.\u001b[0m\u001b[0mSeries\u001b[0m\u001b[1;33m(\u001b[0m\u001b[0mdata\u001b[0m\u001b[1;33m,\u001b[0m \u001b[0mname\u001b[0m\u001b[1;33m=\u001b[0m\u001b[0ms\u001b[0m\u001b[1;33m.\u001b[0m\u001b[0mname\u001b[0m\u001b[1;33m,\u001b[0m \u001b[0mindex\u001b[0m\u001b[1;33m=\u001b[0m\u001b[0midx\u001b[0m\u001b[1;33m)\u001b[0m\u001b[1;33m\u001b[0m\u001b[1;33m\u001b[0m\u001b[0m\n",
      "\u001b[1;31mTypeError\u001b[0m: data type not understood"
     ]
    }
   ],
   "source": [
    "n_unique_aggs_from_fr = dfpd.agg.nunique()\n",
    "#The above command returns an error\n"
   ]
  },
  {
   "cell_type": "code",
   "execution_count": 34,
   "metadata": {},
   "outputs": [
    {
     "name": "stdout",
     "output_type": "stream",
     "text": [
      "Wall time: 0 ns\n"
     ]
    }
   ],
   "source": [
    "#Using different approach\n",
    "%time\n",
    "n_unique_aggs_from_fr = len(dfpd.agg.unique().compute())\n"
   ]
  },
  {
   "cell_type": "code",
   "execution_count": 35,
   "metadata": {},
   "outputs": [
    {
     "data": {
      "text/plain": [
       "1261"
      ]
     },
     "execution_count": 35,
     "metadata": {},
     "output_type": "execute_result"
    }
   ],
   "source": [
    "n_unique_aggs_from_fr"
   ]
  },
  {
   "cell_type": "markdown",
   "metadata": {},
   "source": [
    "## Analysis #1\n",
    "### Comparing time to calculate count of unique values \n",
    "Calculating count of unique values not using fletcher - Wall time = 567ms <br>\n",
    "Calculating count of unique values using fletcher - Wall time = 0ns\n",
    "\n",
    "### Findings\n",
    "Array extensions has decreased the Wall time and has increased efficiency"
   ]
  },
  {
   "cell_type": "markdown",
   "metadata": {},
   "source": [
    "#### Looking for strings"
   ]
  },
  {
   "cell_type": "code",
   "execution_count": 40,
   "metadata": {},
   "outputs": [
    {
     "data": {
      "text/html": [
       "<div>\n",
       "<style scoped>\n",
       "    .dataframe tbody tr th:only-of-type {\n",
       "        vertical-align: middle;\n",
       "    }\n",
       "\n",
       "    .dataframe tbody tr th {\n",
       "        vertical-align: top;\n",
       "    }\n",
       "\n",
       "    .dataframe thead th {\n",
       "        text-align: right;\n",
       "    }\n",
       "</style>\n",
       "<table border=\"1\" class=\"dataframe\">\n",
       "  <thead>\n",
       "    <tr style=\"text-align: right;\">\n",
       "      <th></th>\n",
       "      <th>argument_0</th>\n",
       "      <th>script_url</th>\n",
       "    </tr>\n",
       "  </thead>\n",
       "  <tbody>\n",
       "    <tr>\n",
       "      <th>0</th>\n",
       "      <td></td>\n",
       "      <td>https://staticxx.facebook.com/connect/xd_arbit...</td>\n",
       "    </tr>\n",
       "    <tr>\n",
       "      <th>1</th>\n",
       "      <td></td>\n",
       "      <td>https://staticxx.facebook.com/connect/xd_arbit...</td>\n",
       "    </tr>\n",
       "    <tr>\n",
       "      <th>2</th>\n",
       "      <td></td>\n",
       "      <td>https://staticxx.facebook.com/connect/xd_arbit...</td>\n",
       "    </tr>\n",
       "    <tr>\n",
       "      <th>3</th>\n",
       "      <td></td>\n",
       "      <td>https://staticxx.facebook.com/connect/xd_arbit...</td>\n",
       "    </tr>\n",
       "    <tr>\n",
       "      <th>4</th>\n",
       "      <td></td>\n",
       "      <td>https://ajax.googleapis.com/ajax/libs/webfont/...</td>\n",
       "    </tr>\n",
       "  </tbody>\n",
       "</table>\n",
       "</div>"
      ],
      "text/plain": [
       "  argument_0                                         script_url\n",
       "0             https://staticxx.facebook.com/connect/xd_arbit...\n",
       "1             https://staticxx.facebook.com/connect/xd_arbit...\n",
       "2             https://staticxx.facebook.com/connect/xd_arbit...\n",
       "3             https://staticxx.facebook.com/connect/xd_arbit...\n",
       "4             https://ajax.googleapis.com/ajax/libs/webfont/..."
      ]
     },
     "execution_count": 40,
     "metadata": {},
     "output_type": "execute_result"
    }
   ],
   "source": [
    "df = dd.read_parquet(\n",
    "    'C:\\\\Users\\\\Ayman Hasan\\\\Desktop\\\\Outreachy\\\\sample\\\\part-00000-34d9b361-ea79-42eb-82ee-9c9f9259c339-c000.snappy.parquet', engine='pyarrow',\n",
    "    columns=['argument_0', 'script_url']\n",
    ")\n",
    "df.head()"
   ]
  },
  {
   "cell_type": "code",
   "execution_count": 41,
   "metadata": {},
   "outputs": [
    {
     "data": {
      "text/html": [
       "<div>\n",
       "<style scoped>\n",
       "    .dataframe tbody tr th:only-of-type {\n",
       "        vertical-align: middle;\n",
       "    }\n",
       "\n",
       "    .dataframe tbody tr th {\n",
       "        vertical-align: top;\n",
       "    }\n",
       "\n",
       "    .dataframe thead th {\n",
       "        text-align: right;\n",
       "    }\n",
       "</style>\n",
       "<table border=\"1\" class=\"dataframe\">\n",
       "  <thead>\n",
       "    <tr style=\"text-align: right;\">\n",
       "      <th></th>\n",
       "      <th>argument_0</th>\n",
       "      <th>script_url</th>\n",
       "    </tr>\n",
       "  </thead>\n",
       "  <tbody>\n",
       "    <tr>\n",
       "      <th>0</th>\n",
       "      <td></td>\n",
       "      <td>https://staticxx.facebook.com/connect/xd_arbit...</td>\n",
       "    </tr>\n",
       "    <tr>\n",
       "      <th>1</th>\n",
       "      <td></td>\n",
       "      <td>https://staticxx.facebook.com/connect/xd_arbit...</td>\n",
       "    </tr>\n",
       "    <tr>\n",
       "      <th>2</th>\n",
       "      <td></td>\n",
       "      <td>https://staticxx.facebook.com/connect/xd_arbit...</td>\n",
       "    </tr>\n",
       "    <tr>\n",
       "      <th>3</th>\n",
       "      <td></td>\n",
       "      <td>https://staticxx.facebook.com/connect/xd_arbit...</td>\n",
       "    </tr>\n",
       "    <tr>\n",
       "      <th>4</th>\n",
       "      <td></td>\n",
       "      <td>https://ajax.googleapis.com/ajax/libs/webfont/...</td>\n",
       "    </tr>\n",
       "  </tbody>\n",
       "</table>\n",
       "</div>"
      ],
      "text/plain": [
       "  argument_0                                         script_url\n",
       "0             https://staticxx.facebook.com/connect/xd_arbit...\n",
       "1             https://staticxx.facebook.com/connect/xd_arbit...\n",
       "2             https://staticxx.facebook.com/connect/xd_arbit...\n",
       "3             https://staticxx.facebook.com/connect/xd_arbit...\n",
       "4             https://ajax.googleapis.com/ajax/libs/webfont/..."
      ]
     },
     "execution_count": 41,
     "metadata": {},
     "output_type": "execute_result"
    }
   ],
   "source": [
    "dfpd = df.compute() #Converting to Pandas Dataframe\n",
    "\n",
    "\n",
    "for i in dfpd.columns:\n",
    "    dfpd[i] = fr.FletcherArray(dfpd[i])\n",
    "dfpd = dd.from_pandas(dfpd, npartitions=2)\n",
    "dfpd.head()"
   ]
  },
  {
   "cell_type": "code",
   "execution_count": 42,
   "metadata": {},
   "outputs": [
    {
     "name": "stdout",
     "output_type": "stream",
     "text": [
      "5\n",
      "Wall time: 603 ms\n",
      "Compiler : 258 ms\n"
     ]
    }
   ],
   "source": [
    "%%time\n",
    "print(df[df.argument_0.str.contains('modernizr')].script_url.nunique().compute())\n",
    "#print(df[df.argument_0.str.contains('modernizr')].head())"
   ]
  },
  {
   "cell_type": "code",
   "execution_count": 43,
   "metadata": {},
   "outputs": [
    {
     "ename": "AttributeError",
     "evalue": "Can only use .str accessor with object dtype",
     "output_type": "error",
     "traceback": [
      "\u001b[1;31m---------------------------------------------------------------------------\u001b[0m",
      "\u001b[1;31mAttributeError\u001b[0m                            Traceback (most recent call last)",
      "\u001b[1;32m<timed eval>\u001b[0m in \u001b[0;36m<module>\u001b[1;34m\u001b[0m\n",
      "\u001b[1;32mpandas\\_libs\\properties.pyx\u001b[0m in \u001b[0;36mpandas._libs.properties.CachedProperty.__get__\u001b[1;34m()\u001b[0m\n",
      "\u001b[1;32mC:\\ProgramData\\Anaconda3\\lib\\site-packages\\dask\\dataframe\\core.py\u001b[0m in \u001b[0;36mstr\u001b[1;34m(self)\u001b[0m\n\u001b[0;32m   1892\u001b[0m     \u001b[1;32mdef\u001b[0m \u001b[0mstr\u001b[0m\u001b[1;33m(\u001b[0m\u001b[0mself\u001b[0m\u001b[1;33m)\u001b[0m\u001b[1;33m:\u001b[0m\u001b[1;33m\u001b[0m\u001b[1;33m\u001b[0m\u001b[0m\n\u001b[0;32m   1893\u001b[0m         \u001b[1;34m\"\"\" Namespace for string methods \"\"\"\u001b[0m\u001b[1;33m\u001b[0m\u001b[1;33m\u001b[0m\u001b[0m\n\u001b[1;32m-> 1894\u001b[1;33m         \u001b[1;32mreturn\u001b[0m \u001b[0mStringAccessor\u001b[0m\u001b[1;33m(\u001b[0m\u001b[0mself\u001b[0m\u001b[1;33m)\u001b[0m\u001b[1;33m\u001b[0m\u001b[1;33m\u001b[0m\u001b[0m\n\u001b[0m\u001b[0;32m   1895\u001b[0m \u001b[1;33m\u001b[0m\u001b[0m\n\u001b[0;32m   1896\u001b[0m     \u001b[1;32mdef\u001b[0m \u001b[0m__dir__\u001b[0m\u001b[1;33m(\u001b[0m\u001b[0mself\u001b[0m\u001b[1;33m)\u001b[0m\u001b[1;33m:\u001b[0m\u001b[1;33m\u001b[0m\u001b[1;33m\u001b[0m\u001b[0m\n",
      "\u001b[1;32mC:\\ProgramData\\Anaconda3\\lib\\site-packages\\dask\\dataframe\\accessor.py\u001b[0m in \u001b[0;36m__init__\u001b[1;34m(self, series)\u001b[0m\n\u001b[0;32m     34\u001b[0m         \u001b[1;32mif\u001b[0m \u001b[1;32mnot\u001b[0m \u001b[0misinstance\u001b[0m\u001b[1;33m(\u001b[0m\u001b[0mseries\u001b[0m\u001b[1;33m,\u001b[0m \u001b[0mSeries\u001b[0m\u001b[1;33m)\u001b[0m\u001b[1;33m:\u001b[0m\u001b[1;33m\u001b[0m\u001b[1;33m\u001b[0m\u001b[0m\n\u001b[0;32m     35\u001b[0m             \u001b[1;32mraise\u001b[0m \u001b[0mValueError\u001b[0m\u001b[1;33m(\u001b[0m\u001b[1;34m'Accessor cannot be initialized'\u001b[0m\u001b[1;33m)\u001b[0m\u001b[1;33m\u001b[0m\u001b[1;33m\u001b[0m\u001b[0m\n\u001b[1;32m---> 36\u001b[1;33m         \u001b[0mself\u001b[0m\u001b[1;33m.\u001b[0m\u001b[0m_validate\u001b[0m\u001b[1;33m(\u001b[0m\u001b[0mseries\u001b[0m\u001b[1;33m)\u001b[0m\u001b[1;33m\u001b[0m\u001b[1;33m\u001b[0m\u001b[0m\n\u001b[0m\u001b[0;32m     37\u001b[0m         \u001b[0mself\u001b[0m\u001b[1;33m.\u001b[0m\u001b[0m_series\u001b[0m \u001b[1;33m=\u001b[0m \u001b[0mseries\u001b[0m\u001b[1;33m\u001b[0m\u001b[1;33m\u001b[0m\u001b[0m\n\u001b[0;32m     38\u001b[0m \u001b[1;33m\u001b[0m\u001b[0m\n",
      "\u001b[1;32mC:\\ProgramData\\Anaconda3\\lib\\site-packages\\dask\\dataframe\\accessor.py\u001b[0m in \u001b[0;36m_validate\u001b[1;34m(self, series)\u001b[0m\n\u001b[0;32m    114\u001b[0m                 \u001b[0mis_categorical_dtype\u001b[0m\u001b[1;33m(\u001b[0m\u001b[0mseries\u001b[0m\u001b[1;33m)\u001b[0m \u001b[1;32mand\u001b[0m\u001b[1;33m\u001b[0m\u001b[1;33m\u001b[0m\u001b[0m\n\u001b[0;32m    115\u001b[0m                 series.cat.categories.dtype == 'object')):\n\u001b[1;32m--> 116\u001b[1;33m             \u001b[1;32mraise\u001b[0m \u001b[0mAttributeError\u001b[0m\u001b[1;33m(\u001b[0m\u001b[1;34m\"Can only use .str accessor with object dtype\"\u001b[0m\u001b[1;33m)\u001b[0m\u001b[1;33m\u001b[0m\u001b[1;33m\u001b[0m\u001b[0m\n\u001b[0m\u001b[0;32m    117\u001b[0m \u001b[1;33m\u001b[0m\u001b[0m\n\u001b[0;32m    118\u001b[0m     \u001b[1;33m@\u001b[0m\u001b[0mderived_from\u001b[0m\u001b[1;33m(\u001b[0m\u001b[0mpd\u001b[0m\u001b[1;33m.\u001b[0m\u001b[0mcore\u001b[0m\u001b[1;33m.\u001b[0m\u001b[0mstrings\u001b[0m\u001b[1;33m.\u001b[0m\u001b[0mStringMethods\u001b[0m\u001b[1;33m)\u001b[0m\u001b[1;33m\u001b[0m\u001b[1;33m\u001b[0m\u001b[0m\n",
      "\u001b[1;31mAttributeError\u001b[0m: Can only use .str accessor with object dtype"
     ]
    }
   ],
   "source": [
    "%%time\n",
    "print(len(dfpd[dfpd.argument_0.str.contains('modernizr')].script_url.unique().compute())) #contains is not supported with fletcher array extension"
   ]
  },
  {
   "cell_type": "markdown",
   "metadata": {},
   "source": [
    "## Analysis #2\n",
    "### .str in DASK with Fletcher Array Extension is not supported\n",
    "It gives the above error because DASK doesn't allow access to str with Fletcher Array Extension"
   ]
  },
  {
   "cell_type": "markdown",
   "metadata": {},
   "source": [
    "# Conclusion\n",
    "\n",
    "1. Array extension makes string processing faster for some cases\n",
    "1. Needs extra methods and operations for DASK methods to work correctly\n",
    "1. Some methods are not supported for Fletcher Array type objects"
   ]
  },
  {
   "cell_type": "markdown",
   "metadata": {},
   "source": [
    "#### Splitting symbol"
   ]
  },
  {
   "cell_type": "code",
   "execution_count": 44,
   "metadata": {},
   "outputs": [
    {
     "data": {
      "text/html": [
       "<div>\n",
       "<style scoped>\n",
       "    .dataframe tbody tr th:only-of-type {\n",
       "        vertical-align: middle;\n",
       "    }\n",
       "\n",
       "    .dataframe tbody tr th {\n",
       "        vertical-align: top;\n",
       "    }\n",
       "\n",
       "    .dataframe thead th {\n",
       "        text-align: right;\n",
       "    }\n",
       "</style>\n",
       "<table border=\"1\" class=\"dataframe\">\n",
       "  <thead>\n",
       "    <tr style=\"text-align: right;\">\n",
       "      <th></th>\n",
       "      <th>argument_0</th>\n",
       "      <th>func_name</th>\n",
       "      <th>symbol</th>\n",
       "      <th>location</th>\n",
       "      <th>script_url</th>\n",
       "    </tr>\n",
       "  </thead>\n",
       "  <tbody>\n",
       "    <tr>\n",
       "      <th>0</th>\n",
       "      <td></td>\n",
       "      <td>a/&lt;</td>\n",
       "      <td>window.name</td>\n",
       "      <td>https://staticxx.facebook.com/connect/xd_arbit...</td>\n",
       "      <td>https://staticxx.facebook.com/connect/xd_arbit...</td>\n",
       "    </tr>\n",
       "    <tr>\n",
       "      <th>1</th>\n",
       "      <td></td>\n",
       "      <td>a/&lt;</td>\n",
       "      <td>window.name</td>\n",
       "      <td>https://staticxx.facebook.com/connect/xd_arbit...</td>\n",
       "      <td>https://staticxx.facebook.com/connect/xd_arbit...</td>\n",
       "    </tr>\n",
       "    <tr>\n",
       "      <th>2</th>\n",
       "      <td></td>\n",
       "      <td>A</td>\n",
       "      <td>window.document.cookie</td>\n",
       "      <td>https://staticxx.facebook.com/connect/xd_arbit...</td>\n",
       "      <td>https://staticxx.facebook.com/connect/xd_arbit...</td>\n",
       "    </tr>\n",
       "    <tr>\n",
       "      <th>3</th>\n",
       "      <td></td>\n",
       "      <td>x</td>\n",
       "      <td>window.navigator.userAgent</td>\n",
       "      <td>https://staticxx.facebook.com/connect/xd_arbit...</td>\n",
       "      <td>https://staticxx.facebook.com/connect/xd_arbit...</td>\n",
       "    </tr>\n",
       "    <tr>\n",
       "      <th>4</th>\n",
       "      <td></td>\n",
       "      <td>ra/&lt;</td>\n",
       "      <td>window.navigator.userAgent</td>\n",
       "      <td>https://cas.us.criteo.com/delivery/r/afr.php?d...</td>\n",
       "      <td>https://ajax.googleapis.com/ajax/libs/webfont/...</td>\n",
       "    </tr>\n",
       "  </tbody>\n",
       "</table>\n",
       "</div>"
      ],
      "text/plain": [
       "  argument_0 func_name                      symbol  \\\n",
       "0                  a/<                 window.name   \n",
       "1                  a/<                 window.name   \n",
       "2                    A      window.document.cookie   \n",
       "3                    x  window.navigator.userAgent   \n",
       "4                 ra/<  window.navigator.userAgent   \n",
       "\n",
       "                                            location  \\\n",
       "0  https://staticxx.facebook.com/connect/xd_arbit...   \n",
       "1  https://staticxx.facebook.com/connect/xd_arbit...   \n",
       "2  https://staticxx.facebook.com/connect/xd_arbit...   \n",
       "3  https://staticxx.facebook.com/connect/xd_arbit...   \n",
       "4  https://cas.us.criteo.com/delivery/r/afr.php?d...   \n",
       "\n",
       "                                          script_url  \n",
       "0  https://staticxx.facebook.com/connect/xd_arbit...  \n",
       "1  https://staticxx.facebook.com/connect/xd_arbit...  \n",
       "2  https://staticxx.facebook.com/connect/xd_arbit...  \n",
       "3  https://staticxx.facebook.com/connect/xd_arbit...  \n",
       "4  https://ajax.googleapis.com/ajax/libs/webfont/...  "
      ]
     },
     "execution_count": 44,
     "metadata": {},
     "output_type": "execute_result"
    }
   ],
   "source": [
    "df = dd.read_parquet(\n",
    "    'C:\\\\Users\\\\Ayman Hasan\\\\Desktop\\\\Outreachy\\\\sample\\\\part-00000-34d9b361-ea79-42eb-82ee-9c9f9259c339-c000.snappy.parquet', engine='pyarrow',\n",
    "    columns=['argument_0', 'func_name', 'symbol', 'location', 'script_url']\n",
    ")\n",
    "df.head()"
   ]
  },
  {
   "cell_type": "code",
   "execution_count": 45,
   "metadata": {},
   "outputs": [
    {
     "data": {
      "text/html": [
       "<div>\n",
       "<style scoped>\n",
       "    .dataframe tbody tr th:only-of-type {\n",
       "        vertical-align: middle;\n",
       "    }\n",
       "\n",
       "    .dataframe tbody tr th {\n",
       "        vertical-align: top;\n",
       "    }\n",
       "\n",
       "    .dataframe thead th {\n",
       "        text-align: right;\n",
       "    }\n",
       "</style>\n",
       "<table border=\"1\" class=\"dataframe\">\n",
       "  <thead>\n",
       "    <tr style=\"text-align: right;\">\n",
       "      <th></th>\n",
       "      <th>argument_0</th>\n",
       "      <th>func_name</th>\n",
       "      <th>symbol</th>\n",
       "      <th>location</th>\n",
       "      <th>script_url</th>\n",
       "    </tr>\n",
       "  </thead>\n",
       "  <tbody>\n",
       "    <tr>\n",
       "      <th>0</th>\n",
       "      <td></td>\n",
       "      <td>a/&lt;</td>\n",
       "      <td>window.name</td>\n",
       "      <td>https://staticxx.facebook.com/connect/xd_arbit...</td>\n",
       "      <td>https://staticxx.facebook.com/connect/xd_arbit...</td>\n",
       "    </tr>\n",
       "    <tr>\n",
       "      <th>1</th>\n",
       "      <td></td>\n",
       "      <td>a/&lt;</td>\n",
       "      <td>window.name</td>\n",
       "      <td>https://staticxx.facebook.com/connect/xd_arbit...</td>\n",
       "      <td>https://staticxx.facebook.com/connect/xd_arbit...</td>\n",
       "    </tr>\n",
       "    <tr>\n",
       "      <th>2</th>\n",
       "      <td></td>\n",
       "      <td>A</td>\n",
       "      <td>window.document.cookie</td>\n",
       "      <td>https://staticxx.facebook.com/connect/xd_arbit...</td>\n",
       "      <td>https://staticxx.facebook.com/connect/xd_arbit...</td>\n",
       "    </tr>\n",
       "    <tr>\n",
       "      <th>3</th>\n",
       "      <td></td>\n",
       "      <td>x</td>\n",
       "      <td>window.navigator.userAgent</td>\n",
       "      <td>https://staticxx.facebook.com/connect/xd_arbit...</td>\n",
       "      <td>https://staticxx.facebook.com/connect/xd_arbit...</td>\n",
       "    </tr>\n",
       "    <tr>\n",
       "      <th>4</th>\n",
       "      <td></td>\n",
       "      <td>ra/&lt;</td>\n",
       "      <td>window.navigator.userAgent</td>\n",
       "      <td>https://cas.us.criteo.com/delivery/r/afr.php?d...</td>\n",
       "      <td>https://ajax.googleapis.com/ajax/libs/webfont/...</td>\n",
       "    </tr>\n",
       "  </tbody>\n",
       "</table>\n",
       "</div>"
      ],
      "text/plain": [
       "  argument_0 func_name                      symbol  \\\n",
       "0                  a/<                 window.name   \n",
       "1                  a/<                 window.name   \n",
       "2                    A      window.document.cookie   \n",
       "3                    x  window.navigator.userAgent   \n",
       "4                 ra/<  window.navigator.userAgent   \n",
       "\n",
       "                                            location  \\\n",
       "0  https://staticxx.facebook.com/connect/xd_arbit...   \n",
       "1  https://staticxx.facebook.com/connect/xd_arbit...   \n",
       "2  https://staticxx.facebook.com/connect/xd_arbit...   \n",
       "3  https://staticxx.facebook.com/connect/xd_arbit...   \n",
       "4  https://cas.us.criteo.com/delivery/r/afr.php?d...   \n",
       "\n",
       "                                          script_url  \n",
       "0  https://staticxx.facebook.com/connect/xd_arbit...  \n",
       "1  https://staticxx.facebook.com/connect/xd_arbit...  \n",
       "2  https://staticxx.facebook.com/connect/xd_arbit...  \n",
       "3  https://staticxx.facebook.com/connect/xd_arbit...  \n",
       "4  https://ajax.googleapis.com/ajax/libs/webfont/...  "
      ]
     },
     "execution_count": 45,
     "metadata": {},
     "output_type": "execute_result"
    }
   ],
   "source": [
    "dfpd = df.compute() #Converting to Pandas Dataframe\n",
    "\n",
    "\n",
    "for i in dfpd.columns:\n",
    "    dfpd[i] = fr.FletcherArray(dfpd[i])\n",
    "dfpd = dd.from_pandas(dfpd, npartitions=2)\n",
    "dfpd.head()"
   ]
  },
  {
   "cell_type": "code",
   "execution_count": 46,
   "metadata": {},
   "outputs": [
    {
     "ename": "AttributeError",
     "evalue": "'DataFrame' object has no attribute 'symbol_parts'",
     "output_type": "error",
     "traceback": [
      "\u001b[1;31m---------------------------------------------------------------------------\u001b[0m",
      "\u001b[1;31mAttributeError\u001b[0m                            Traceback (most recent call last)",
      "\u001b[1;32m<ipython-input-46-5545e22d8c09>\u001b[0m in \u001b[0;36m<module>\u001b[1;34m\u001b[0m\n\u001b[0;32m      4\u001b[0m \u001b[0mdf\u001b[0m\u001b[1;33m[\u001b[0m\u001b[1;34m'symbol_2'\u001b[0m\u001b[1;33m]\u001b[0m \u001b[1;33m=\u001b[0m \u001b[0mdf\u001b[0m\u001b[1;33m.\u001b[0m\u001b[0msymbol_parts\u001b[0m\u001b[1;33m.\u001b[0m\u001b[0mstr\u001b[0m\u001b[1;33m.\u001b[0m\u001b[0mget\u001b[0m\u001b[1;33m(\u001b[0m\u001b[1;36m2\u001b[0m\u001b[1;33m)\u001b[0m\u001b[1;33m\u001b[0m\u001b[1;33m\u001b[0m\u001b[0m\n\u001b[0;32m      5\u001b[0m \u001b[0mdf\u001b[0m\u001b[1;33m.\u001b[0m\u001b[0mhead\u001b[0m\u001b[1;33m(\u001b[0m\u001b[1;33m)\u001b[0m\u001b[1;33m\u001b[0m\u001b[1;33m\u001b[0m\u001b[0m\n\u001b[1;32m----> 6\u001b[1;33m \u001b[0mdfpd\u001b[0m\u001b[1;33m[\u001b[0m\u001b[1;34m'symbol_0'\u001b[0m\u001b[1;33m]\u001b[0m \u001b[1;33m=\u001b[0m \u001b[0mdfpd\u001b[0m\u001b[1;33m.\u001b[0m\u001b[0msymbol_parts\u001b[0m\u001b[1;33m.\u001b[0m\u001b[0mstr\u001b[0m\u001b[1;33m.\u001b[0m\u001b[0mget\u001b[0m\u001b[1;33m(\u001b[0m\u001b[1;36m0\u001b[0m\u001b[1;33m)\u001b[0m\u001b[1;33m\u001b[0m\u001b[1;33m\u001b[0m\u001b[0m\n\u001b[0m",
      "\u001b[1;32mC:\\ProgramData\\Anaconda3\\lib\\site-packages\\dask\\dataframe\\core.py\u001b[0m in \u001b[0;36m__getattr__\u001b[1;34m(self, key)\u001b[0m\n\u001b[0;32m   2531\u001b[0m             return new_dd_object(merge(self.dask, dsk), name,\n\u001b[0;32m   2532\u001b[0m                                  meta, self.divisions)\n\u001b[1;32m-> 2533\u001b[1;33m         \u001b[1;32mraise\u001b[0m \u001b[0mAttributeError\u001b[0m\u001b[1;33m(\u001b[0m\u001b[1;34m\"'DataFrame' object has no attribute %r\"\u001b[0m \u001b[1;33m%\u001b[0m \u001b[0mkey\u001b[0m\u001b[1;33m)\u001b[0m\u001b[1;33m\u001b[0m\u001b[1;33m\u001b[0m\u001b[0m\n\u001b[0m\u001b[0;32m   2534\u001b[0m \u001b[1;33m\u001b[0m\u001b[0m\n\u001b[0;32m   2535\u001b[0m     \u001b[1;32mdef\u001b[0m \u001b[0m__dir__\u001b[0m\u001b[1;33m(\u001b[0m\u001b[0mself\u001b[0m\u001b[1;33m)\u001b[0m\u001b[1;33m:\u001b[0m\u001b[1;33m\u001b[0m\u001b[1;33m\u001b[0m\u001b[0m\n",
      "\u001b[1;31mAttributeError\u001b[0m: 'DataFrame' object has no attribute 'symbol_parts'"
     ]
    }
   ],
   "source": [
    "df['symbol_parts'] = df.symbol.str.split('.')\n",
    "df['symbol_0'] = df.symbol_parts.str.get(0)\n",
    "df['symbol_1'] = df.symbol_parts.str.get(1)\n",
    "df['symbol_2'] = df.symbol_parts.str.get(2)\n",
    "df.head()\n",
    "dfpd['symbol_0'] = dfpd.symbol_parts.str.get(0)"
   ]
  },
  {
   "cell_type": "code",
   "execution_count": 47,
   "metadata": {},
   "outputs": [
    {
     "ename": "AttributeError",
     "evalue": "Can only use .str accessor with object dtype",
     "output_type": "error",
     "traceback": [
      "\u001b[1;31m---------------------------------------------------------------------------\u001b[0m",
      "\u001b[1;31mAttributeError\u001b[0m                            Traceback (most recent call last)",
      "\u001b[1;32m<ipython-input-47-26e6793c788c>\u001b[0m in \u001b[0;36m<module>\u001b[1;34m\u001b[0m\n\u001b[1;32m----> 1\u001b[1;33m \u001b[0mdfpd\u001b[0m\u001b[1;33m[\u001b[0m\u001b[1;34m'symbol_parts'\u001b[0m\u001b[1;33m]\u001b[0m \u001b[1;33m=\u001b[0m \u001b[0mdfpd\u001b[0m\u001b[1;33m.\u001b[0m\u001b[0msymbol\u001b[0m\u001b[1;33m.\u001b[0m\u001b[0mstr\u001b[0m\u001b[1;33m.\u001b[0m\u001b[0msplit\u001b[0m\u001b[1;33m(\u001b[0m\u001b[1;34m'.'\u001b[0m\u001b[1;33m)\u001b[0m\u001b[1;33m\u001b[0m\u001b[1;33m\u001b[0m\u001b[0m\n\u001b[0m\u001b[0;32m      2\u001b[0m \u001b[0mdfpd\u001b[0m\u001b[1;33m[\u001b[0m\u001b[1;34m'symbol_0'\u001b[0m\u001b[1;33m]\u001b[0m \u001b[1;33m=\u001b[0m \u001b[0mdfpd\u001b[0m\u001b[1;33m.\u001b[0m\u001b[0msymbol_parts\u001b[0m\u001b[1;33m.\u001b[0m\u001b[0mstr\u001b[0m\u001b[1;33m.\u001b[0m\u001b[0mget\u001b[0m\u001b[1;33m(\u001b[0m\u001b[1;36m0\u001b[0m\u001b[1;33m)\u001b[0m\u001b[1;33m\u001b[0m\u001b[1;33m\u001b[0m\u001b[0m\n\u001b[0;32m      3\u001b[0m \u001b[0mdfpd\u001b[0m\u001b[1;33m[\u001b[0m\u001b[1;34m'symbol_1'\u001b[0m\u001b[1;33m]\u001b[0m \u001b[1;33m=\u001b[0m \u001b[0mdf\u001b[0m\u001b[1;33m.\u001b[0m\u001b[0msymbol_parts\u001b[0m\u001b[1;33m.\u001b[0m\u001b[0mstr\u001b[0m\u001b[1;33m.\u001b[0m\u001b[0mget\u001b[0m\u001b[1;33m(\u001b[0m\u001b[1;36m1\u001b[0m\u001b[1;33m)\u001b[0m\u001b[1;33m\u001b[0m\u001b[1;33m\u001b[0m\u001b[0m\n\u001b[0;32m      4\u001b[0m \u001b[1;33m\u001b[0m\u001b[0m\n\u001b[0;32m      5\u001b[0m \u001b[0mdf\u001b[0m\u001b[1;33m.\u001b[0m\u001b[0mhead\u001b[0m\u001b[1;33m(\u001b[0m\u001b[1;33m)\u001b[0m\u001b[1;33m\u001b[0m\u001b[1;33m\u001b[0m\u001b[0m\n",
      "\u001b[1;32mpandas\\_libs\\properties.pyx\u001b[0m in \u001b[0;36mpandas._libs.properties.CachedProperty.__get__\u001b[1;34m()\u001b[0m\n",
      "\u001b[1;32mC:\\ProgramData\\Anaconda3\\lib\\site-packages\\dask\\dataframe\\core.py\u001b[0m in \u001b[0;36mstr\u001b[1;34m(self)\u001b[0m\n\u001b[0;32m   1892\u001b[0m     \u001b[1;32mdef\u001b[0m \u001b[0mstr\u001b[0m\u001b[1;33m(\u001b[0m\u001b[0mself\u001b[0m\u001b[1;33m)\u001b[0m\u001b[1;33m:\u001b[0m\u001b[1;33m\u001b[0m\u001b[1;33m\u001b[0m\u001b[0m\n\u001b[0;32m   1893\u001b[0m         \u001b[1;34m\"\"\" Namespace for string methods \"\"\"\u001b[0m\u001b[1;33m\u001b[0m\u001b[1;33m\u001b[0m\u001b[0m\n\u001b[1;32m-> 1894\u001b[1;33m         \u001b[1;32mreturn\u001b[0m \u001b[0mStringAccessor\u001b[0m\u001b[1;33m(\u001b[0m\u001b[0mself\u001b[0m\u001b[1;33m)\u001b[0m\u001b[1;33m\u001b[0m\u001b[1;33m\u001b[0m\u001b[0m\n\u001b[0m\u001b[0;32m   1895\u001b[0m \u001b[1;33m\u001b[0m\u001b[0m\n\u001b[0;32m   1896\u001b[0m     \u001b[1;32mdef\u001b[0m \u001b[0m__dir__\u001b[0m\u001b[1;33m(\u001b[0m\u001b[0mself\u001b[0m\u001b[1;33m)\u001b[0m\u001b[1;33m:\u001b[0m\u001b[1;33m\u001b[0m\u001b[1;33m\u001b[0m\u001b[0m\n",
      "\u001b[1;32mC:\\ProgramData\\Anaconda3\\lib\\site-packages\\dask\\dataframe\\accessor.py\u001b[0m in \u001b[0;36m__init__\u001b[1;34m(self, series)\u001b[0m\n\u001b[0;32m     34\u001b[0m         \u001b[1;32mif\u001b[0m \u001b[1;32mnot\u001b[0m \u001b[0misinstance\u001b[0m\u001b[1;33m(\u001b[0m\u001b[0mseries\u001b[0m\u001b[1;33m,\u001b[0m \u001b[0mSeries\u001b[0m\u001b[1;33m)\u001b[0m\u001b[1;33m:\u001b[0m\u001b[1;33m\u001b[0m\u001b[1;33m\u001b[0m\u001b[0m\n\u001b[0;32m     35\u001b[0m             \u001b[1;32mraise\u001b[0m \u001b[0mValueError\u001b[0m\u001b[1;33m(\u001b[0m\u001b[1;34m'Accessor cannot be initialized'\u001b[0m\u001b[1;33m)\u001b[0m\u001b[1;33m\u001b[0m\u001b[1;33m\u001b[0m\u001b[0m\n\u001b[1;32m---> 36\u001b[1;33m         \u001b[0mself\u001b[0m\u001b[1;33m.\u001b[0m\u001b[0m_validate\u001b[0m\u001b[1;33m(\u001b[0m\u001b[0mseries\u001b[0m\u001b[1;33m)\u001b[0m\u001b[1;33m\u001b[0m\u001b[1;33m\u001b[0m\u001b[0m\n\u001b[0m\u001b[0;32m     37\u001b[0m         \u001b[0mself\u001b[0m\u001b[1;33m.\u001b[0m\u001b[0m_series\u001b[0m \u001b[1;33m=\u001b[0m \u001b[0mseries\u001b[0m\u001b[1;33m\u001b[0m\u001b[1;33m\u001b[0m\u001b[0m\n\u001b[0;32m     38\u001b[0m \u001b[1;33m\u001b[0m\u001b[0m\n",
      "\u001b[1;32mC:\\ProgramData\\Anaconda3\\lib\\site-packages\\dask\\dataframe\\accessor.py\u001b[0m in \u001b[0;36m_validate\u001b[1;34m(self, series)\u001b[0m\n\u001b[0;32m    114\u001b[0m                 \u001b[0mis_categorical_dtype\u001b[0m\u001b[1;33m(\u001b[0m\u001b[0mseries\u001b[0m\u001b[1;33m)\u001b[0m \u001b[1;32mand\u001b[0m\u001b[1;33m\u001b[0m\u001b[1;33m\u001b[0m\u001b[0m\n\u001b[0;32m    115\u001b[0m                 series.cat.categories.dtype == 'object')):\n\u001b[1;32m--> 116\u001b[1;33m             \u001b[1;32mraise\u001b[0m \u001b[0mAttributeError\u001b[0m\u001b[1;33m(\u001b[0m\u001b[1;34m\"Can only use .str accessor with object dtype\"\u001b[0m\u001b[1;33m)\u001b[0m\u001b[1;33m\u001b[0m\u001b[1;33m\u001b[0m\u001b[0m\n\u001b[0m\u001b[0;32m    117\u001b[0m \u001b[1;33m\u001b[0m\u001b[0m\n\u001b[0;32m    118\u001b[0m     \u001b[1;33m@\u001b[0m\u001b[0mderived_from\u001b[0m\u001b[1;33m(\u001b[0m\u001b[0mpd\u001b[0m\u001b[1;33m.\u001b[0m\u001b[0mcore\u001b[0m\u001b[1;33m.\u001b[0m\u001b[0mstrings\u001b[0m\u001b[1;33m.\u001b[0m\u001b[0mStringMethods\u001b[0m\u001b[1;33m)\u001b[0m\u001b[1;33m\u001b[0m\u001b[1;33m\u001b[0m\u001b[0m\n",
      "\u001b[1;31mAttributeError\u001b[0m: Can only use .str accessor with object dtype"
     ]
    }
   ],
   "source": [
    "dfpd['symbol_parts'] = dfpd.symbol.str.split('.')\n",
    "dfpd['symbol_0'] = dfpd.symbol_parts.str.get(0)\n",
    "dfpd['symbol_1'] = df.symbol_parts.str.get(1)\n",
    "\n",
    "df.head()"
   ]
  },
  {
   "cell_type": "code",
   "execution_count": 48,
   "metadata": {},
   "outputs": [
    {
     "name": "stdout",
     "output_type": "stream",
     "text": [
      "5\n",
      "Wall time: 367 ms\n"
     ]
    }
   ],
   "source": [
    "%%time\n",
    "print(df[df.symbol_1 == 'fillText'].func_name.nunique().compute())"
   ]
  },
  {
   "cell_type": "markdown",
   "metadata": {},
   "source": []
  }
 ],
 "metadata": {
  "kernelspec": {
   "display_name": "Python 3",
   "language": "python",
   "name": "python3"
  }
 },
 "nbformat": 4,
 "nbformat_minor": 2
}
